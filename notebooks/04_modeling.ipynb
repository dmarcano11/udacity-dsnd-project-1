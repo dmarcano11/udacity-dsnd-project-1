{
 "cells": [
  {
   "metadata": {},
   "cell_type": "markdown",
   "source": [
    "# Modeling\n",
    "## 1. Select modeling techniques\n",
    "## 2. Generate test design\n",
    "## 3. Build model\n",
    "## 4. Assess model"
   ],
   "id": "421878467d4a6f5d"
  },
  {
   "cell_type": "code",
   "id": "initial_id",
   "metadata": {
    "collapsed": true,
    "ExecuteTime": {
     "end_time": "2025-09-18T20:30:00.211903Z",
     "start_time": "2025-09-18T20:30:00.181950Z"
    }
   },
   "source": [
    "# StackOverflow Developer Survey - Modeling\n",
    "import pandas as pd\n",
    "import numpy as np\n",
    "import matplotlib.pyplot as plt\n",
    "import seaborn as sns\n",
    "from sklearn.linear_model import LinearRegression\n",
    "from sklearn.model_selection import cross_val_score, learning_curve\n",
    "from sklearn.metrics import mean_squared_error, mean_absolute_error, r2_score\n",
    "import joblib\n",
    "import json\n",
    "import warnings\n",
    "warnings.filterwarnings('ignore')\n",
    "\n",
    "# Set display options\n",
    "pd.set_option('display.max_columns', None)\n",
    "pd.set_option('display.width', None)"
   ],
   "outputs": [],
   "execution_count": 6
  },
  {
   "metadata": {
    "ExecuteTime": {
     "end_time": "2025-09-18T20:30:01.323084Z",
     "start_time": "2025-09-18T20:30:00.993155Z"
    }
   },
   "cell_type": "code",
   "source": [
    "print(\"Linear Regression Modeling for Developer Salary Prediction\")\n",
    "print(\"=\" * 60)\n",
    "\n",
    "# 1. Load processed data from feature engineering\n",
    "print(\"\\n1. Loading the dataset...\")\n",
    "X_train = pd.read_csv('../data/processed/X_train_processed.csv')\n",
    "X_test = pd.read_csv('../data/processed/X_test_processed.csv')\n",
    "y_train = pd.read_csv('../data/processed/y_train.csv').squeeze()\n",
    "y_test = pd.read_csv('../data/processed/y_test.csv').squeeze()\n",
    "\n",
    "# Load preprocessing objects and metadata\n",
    "scaler = joblib.load('../data/processed/feature_scaler.pkl')\n",
    "selector = joblib.load('../data/processed/feature_selector.pkl')\n",
    "\n",
    "with open('../data/processed/feature_engineering_metadata.json', 'r') as f:\n",
    "    metadata = json.load(f)\n",
    "\n",
    "print(f\"Training set shape: {X_train.shape}\")\n",
    "print(f\"Test set shape: {X_test.shape}\")\n",
    "print(f\"Target variable range: ${y_train.min():,.0f} - ${y_train.max():,.0f}\")\n",
    "print(f\"Target variable mean: ${y_train.mean():,.0f}\")"
   ],
   "id": "8537bfc88935d362",
   "outputs": [
    {
     "name": "stdout",
     "output_type": "stream",
     "text": [
      "Linear Regression Modeling for Developer Salary Prediction\n",
      "============================================================\n",
      "\n",
      "1. Loading the dataset...\n",
      "Training set shape: (19142, 100)\n",
      "Test set shape: (4786, 100)\n",
      "Target variable range: $1 - $244,319\n",
      "Target variable mean: $86,782\n"
     ]
    }
   ],
   "execution_count": 7
  },
  {
   "metadata": {
    "ExecuteTime": {
     "end_time": "2025-09-18T20:30:03.005290Z",
     "start_time": "2025-09-18T20:30:02.999590Z"
    }
   },
   "cell_type": "code",
   "source": [
    "# Display feature importance from feature selection\n",
    "print(f\"\\nUsing top {len(metadata['selected_features'])} features selected by F-regression\")\n",
    "print(\"Top 10 most important features:\")\n",
    "for i, feature_info in enumerate(metadata['feature_importance'][:10]):\n",
    "    print(f\"  {i+1}. {feature_info['feature']}: F-score = {feature_info['f_score']:.2f}\")"
   ],
   "id": "466672d99dcc293e",
   "outputs": [
    {
     "name": "stdout",
     "output_type": "stream",
     "text": [
      "\n",
      "Using top 100 features selected by F-regression\n",
      "Top 10 most important features:\n",
      "  1. Country_frequency: F-score = 7290.73\n",
      "  2. YearsCode: F-score = 3247.87\n",
      "  3. WorkExp: F-score = 2641.36\n",
      "  4. SODuration_Between 10 and 15 years: F-score = 943.55\n",
      "  5. SODuration_More than 15 years, or since Stack Overflow started in 2008: F-score = 897.61\n",
      "  6. SODuration_Between 3 and 5 years: F-score = 816.72\n",
      "  7. Employment_Student: F-score = 644.58\n",
      "  8. PlatformHaveWorkedWith_Terraform: F-score = 639.05\n",
      "  9. Age_35-44 years old: F-score = 603.43\n",
      "  10. PlatformHaveWorkedWith_Homebrew: F-score = 581.18\n"
     ]
    }
   ],
   "execution_count": 8
  },
  {
   "metadata": {
    "ExecuteTime": {
     "end_time": "2025-09-18T20:30:05.949998Z",
     "start_time": "2025-09-18T20:30:05.865964Z"
    }
   },
   "cell_type": "code",
   "source": [
    "# 2. Train Linear Regression Model\n",
    "print(\"\\n2. Training Linear Regression Model...\")\n",
    "\n",
    "# Initialize and train the model\n",
    "model = LinearRegression()\n",
    "model.fit(X_train, y_train)"
   ],
   "id": "8688fc40b77706ad",
   "outputs": [
    {
     "name": "stdout",
     "output_type": "stream",
     "text": [
      "\n",
      "2. Training Linear Regression Model...\n"
     ]
    },
    {
     "data": {
      "text/plain": [
       "LinearRegression()"
      ],
      "text/html": [
       "<style>#sk-container-id-2 {color: black;background-color: white;}#sk-container-id-2 pre{padding: 0;}#sk-container-id-2 div.sk-toggleable {background-color: white;}#sk-container-id-2 label.sk-toggleable__label {cursor: pointer;display: block;width: 100%;margin-bottom: 0;padding: 0.3em;box-sizing: border-box;text-align: center;}#sk-container-id-2 label.sk-toggleable__label-arrow:before {content: \"▸\";float: left;margin-right: 0.25em;color: #696969;}#sk-container-id-2 label.sk-toggleable__label-arrow:hover:before {color: black;}#sk-container-id-2 div.sk-estimator:hover label.sk-toggleable__label-arrow:before {color: black;}#sk-container-id-2 div.sk-toggleable__content {max-height: 0;max-width: 0;overflow: hidden;text-align: left;background-color: #f0f8ff;}#sk-container-id-2 div.sk-toggleable__content pre {margin: 0.2em;color: black;border-radius: 0.25em;background-color: #f0f8ff;}#sk-container-id-2 input.sk-toggleable__control:checked~div.sk-toggleable__content {max-height: 200px;max-width: 100%;overflow: auto;}#sk-container-id-2 input.sk-toggleable__control:checked~label.sk-toggleable__label-arrow:before {content: \"▾\";}#sk-container-id-2 div.sk-estimator input.sk-toggleable__control:checked~label.sk-toggleable__label {background-color: #d4ebff;}#sk-container-id-2 div.sk-label input.sk-toggleable__control:checked~label.sk-toggleable__label {background-color: #d4ebff;}#sk-container-id-2 input.sk-hidden--visually {border: 0;clip: rect(1px 1px 1px 1px);clip: rect(1px, 1px, 1px, 1px);height: 1px;margin: -1px;overflow: hidden;padding: 0;position: absolute;width: 1px;}#sk-container-id-2 div.sk-estimator {font-family: monospace;background-color: #f0f8ff;border: 1px dotted black;border-radius: 0.25em;box-sizing: border-box;margin-bottom: 0.5em;}#sk-container-id-2 div.sk-estimator:hover {background-color: #d4ebff;}#sk-container-id-2 div.sk-parallel-item::after {content: \"\";width: 100%;border-bottom: 1px solid gray;flex-grow: 1;}#sk-container-id-2 div.sk-label:hover label.sk-toggleable__label {background-color: #d4ebff;}#sk-container-id-2 div.sk-serial::before {content: \"\";position: absolute;border-left: 1px solid gray;box-sizing: border-box;top: 0;bottom: 0;left: 50%;z-index: 0;}#sk-container-id-2 div.sk-serial {display: flex;flex-direction: column;align-items: center;background-color: white;padding-right: 0.2em;padding-left: 0.2em;position: relative;}#sk-container-id-2 div.sk-item {position: relative;z-index: 1;}#sk-container-id-2 div.sk-parallel {display: flex;align-items: stretch;justify-content: center;background-color: white;position: relative;}#sk-container-id-2 div.sk-item::before, #sk-container-id-2 div.sk-parallel-item::before {content: \"\";position: absolute;border-left: 1px solid gray;box-sizing: border-box;top: 0;bottom: 0;left: 50%;z-index: -1;}#sk-container-id-2 div.sk-parallel-item {display: flex;flex-direction: column;z-index: 1;position: relative;background-color: white;}#sk-container-id-2 div.sk-parallel-item:first-child::after {align-self: flex-end;width: 50%;}#sk-container-id-2 div.sk-parallel-item:last-child::after {align-self: flex-start;width: 50%;}#sk-container-id-2 div.sk-parallel-item:only-child::after {width: 0;}#sk-container-id-2 div.sk-dashed-wrapped {border: 1px dashed gray;margin: 0 0.4em 0.5em 0.4em;box-sizing: border-box;padding-bottom: 0.4em;background-color: white;}#sk-container-id-2 div.sk-label label {font-family: monospace;font-weight: bold;display: inline-block;line-height: 1.2em;}#sk-container-id-2 div.sk-label-container {text-align: center;}#sk-container-id-2 div.sk-container {/* jupyter's `normalize.less` sets `[hidden] { display: none; }` but bootstrap.min.css set `[hidden] { display: none !important; }` so we also need the `!important` here to be able to override the default hidden behavior on the sphinx rendered scikit-learn.org. See: https://github.com/scikit-learn/scikit-learn/issues/21755 */display: inline-block !important;position: relative;}#sk-container-id-2 div.sk-text-repr-fallback {display: none;}</style><div id=\"sk-container-id-2\" class=\"sk-top-container\"><div class=\"sk-text-repr-fallback\"><pre>LinearRegression()</pre><b>In a Jupyter environment, please rerun this cell to show the HTML representation or trust the notebook. <br />On GitHub, the HTML representation is unable to render, please try loading this page with nbviewer.org.</b></div><div class=\"sk-container\" hidden><div class=\"sk-item\"><div class=\"sk-estimator sk-toggleable\"><input class=\"sk-toggleable__control sk-hidden--visually\" id=\"sk-estimator-id-2\" type=\"checkbox\" checked><label for=\"sk-estimator-id-2\" class=\"sk-toggleable__label sk-toggleable__label-arrow\">LinearRegression</label><div class=\"sk-toggleable__content\"><pre>LinearRegression()</pre></div></div></div></div></div>"
      ]
     },
     "execution_count": 9,
     "metadata": {},
     "output_type": "execute_result"
    }
   ],
   "execution_count": 9
  },
  {
   "metadata": {
    "ExecuteTime": {
     "end_time": "2025-09-18T20:30:10.009287Z",
     "start_time": "2025-09-18T20:30:10.003727Z"
    }
   },
   "cell_type": "code",
   "source": [
    "coefficients = model.coef_\n",
    "\n",
    "feature_names = [\n",
    "    'WorkExp',\n",
    "    'YearsCOde',\n",
    "    'DevType',\n",
    "    'Industry',\n",
    "    'Language_Satisfaction',\n",
    "    'Database_Satisfaction',\n",
    "    'CommPlatform_Satisfaction'\n",
    "]\n",
    "for feature, coef in zip(feature_names, coefficients):\n",
    "    print(f\"Coefficient for {feature}: {coef}\")"
   ],
   "id": "7d8ddad00068bbac",
   "outputs": [
    {
     "name": "stdout",
     "output_type": "stream",
     "text": [
      "Coefficient for WorkExp: 6825.237018587604\n",
      "Coefficient for YearsCOde: 10492.46795287326\n",
      "Coefficient for DevType: -221.28719446071818\n",
      "Coefficient for Industry: 1830.3848046641324\n",
      "Coefficient for Language_Satisfaction: -1844.0738573424414\n",
      "Coefficient for Database_Satisfaction: 434.4815858098136\n",
      "Coefficient for CommPlatform_Satisfaction: -650.9818891310479\n"
     ]
    }
   ],
   "execution_count": 10
  },
  {
   "metadata": {
    "ExecuteTime": {
     "end_time": "2025-09-18T20:30:13.960794Z",
     "start_time": "2025-09-18T20:30:13.947014Z"
    }
   },
   "cell_type": "code",
   "source": [
    "# Make predictions\n",
    "y_train_pred = model.predict(X_train)\n",
    "y_test_pred = model.predict(X_test)\n",
    "\n",
    "# Calculate metrics\n",
    "train_rmse = np.sqrt(mean_squared_error(y_train, y_train_pred))\n",
    "test_rmse = np.sqrt(mean_squared_error(y_test, y_test_pred))\n",
    "train_mae = mean_absolute_error(y_train, y_train_pred)\n",
    "test_mae = mean_absolute_error(y_test, y_test_pred)\n",
    "train_r2 = r2_score(y_train, y_train_pred)\n",
    "test_r2 = r2_score(y_test, y_test_pred)\n",
    "\n",
    "print(\"Linear Regression Results:\")\n",
    "print(f\"  Training RMSE: ${train_rmse:,.0f}\")\n",
    "print(f\"  Test RMSE: ${test_rmse:,.0f}\")\n",
    "print(f\"  Training MAE: ${train_mae:,.0f}\")\n",
    "print(f\"  Test MAE: ${test_mae:,.0f}\")\n",
    "print(f\"  Training R²: {train_r2:.4f}\")\n",
    "print(f\"  Test R²: {test_r2:.4f}\")"
   ],
   "id": "663afefd0a89f8d2",
   "outputs": [
    {
     "name": "stdout",
     "output_type": "stream",
     "text": [
      "Linear Regression Results:\n",
      "  Training RMSE: $44,844\n",
      "  Test RMSE: $44,651\n",
      "  Training MAE: $32,982\n",
      "  Test MAE: $32,963\n",
      "  Training R²: 0.5186\n",
      "  Test R²: 0.5252\n"
     ]
    }
   ],
   "execution_count": 11
  },
  {
   "metadata": {},
   "cell_type": "code",
   "outputs": [],
   "execution_count": null,
   "source": "",
   "id": "8a7af76b22b60e02"
  },
  {
   "metadata": {},
   "cell_type": "code",
   "outputs": [],
   "execution_count": null,
   "source": [
    "# Cross-validation\n",
    "cv_scores = cross_val_score(model, X_train, y_train, \n",
    "                           cv=5, scoring='neg_mean_squared_error')\n",
    "cv_rmse = np.sqrt(-cv_scores)\n",
    "print(f\"  Cross-validation RMSE: ${cv_rmse.mean():,.0f} ± ${cv_rmse.std():,.0f}\")"
   ],
   "id": "61ad4b2079b3ed2a"
  },
  {
   "metadata": {},
   "cell_type": "code",
   "outputs": [],
   "execution_count": null,
   "source": [
    "# 3. Feature Importance Analysis\n",
    "print(\"\\n3. Feature Importance Analysis...\")\n",
    "\n",
    "# Get feature importance (coefficients) from the model\n",
    "feature_importance = pd.DataFrame({\n",
    "    'feature': X_train.columns,\n",
    "    'coefficient': model.coef_,\n",
    "    'abs_coefficient': np.abs(model.coef_)\n",
    "}).sort_values('abs_coefficient', ascending=False)\n",
    "\n",
    "print(\"Top 15 Most Important Features:\")\n",
    "for i, (_, row) in enumerate(feature_importance.head(15).iterrows()):\n",
    "    direction = \"↑\" if row['coefficient'] > 0 else \"↓\"\n",
    "    print(f\"  {i+1:2d}. {row['feature']:<35} {direction} {row['coefficient']:8.0f}\")\n"
   ],
   "id": "86f6fedd8341a08"
  },
  {
   "metadata": {},
   "cell_type": "code",
   "outputs": [],
   "execution_count": null,
   "source": [
    "# Analyze career satisfaction features specifically\n",
    "satisfaction_features = [f for f in feature_importance['feature'] \n",
    "                       if any(keyword in f for keyword in ['Satisfaction', 'Difference', 'Ratio'])]\n",
    "\n",
    "if satisfaction_features:\n",
    "    print(\"\\nCareer Satisfaction Features Impact:\")\n",
    "    for feature in satisfaction_features:\n",
    "        coef = feature_importance[feature_importance['feature'] == feature]['coefficient'].iloc[0]\n",
    "        direction = \"positive\" if coef > 0 else \"negative\"\n",
    "        print(f\"  {feature}: ${coef:,.0f} ({direction} impact on salary)\")\n"
   ],
   "id": "90266a912e676c2"
  },
  {
   "metadata": {},
   "cell_type": "code",
   "outputs": [],
   "execution_count": null,
   "source": [
    "# 4. Model Diagnostics and Visualizations\n",
    "print(\"\\n4. Creating Model Diagnostics...\")\n",
    "\n",
    "# Create comprehensive visualization\n",
    "fig, axes = plt.subplots(2, 2, figsize=(15, 12))\n",
    "fig.suptitle('Linear Regression Model Diagnostics', fontsize=16, fontweight='bold')\n"
   ],
   "id": "2a46ffc63b7ce1ae"
  }
 ],
 "metadata": {
  "kernelspec": {
   "display_name": "Python 3",
   "language": "python",
   "name": "python3"
  },
  "language_info": {
   "codemirror_mode": {
    "name": "ipython",
    "version": 2
   },
   "file_extension": ".py",
   "mimetype": "text/x-python",
   "name": "python",
   "nbconvert_exporter": "python",
   "pygments_lexer": "ipython2",
   "version": "2.7.6"
  }
 },
 "nbformat": 4,
 "nbformat_minor": 5
}
