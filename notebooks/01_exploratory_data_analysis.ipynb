{
 "cells": [
  {
   "cell_type": "code",
   "id": "initial_id",
   "metadata": {
    "collapsed": true,
    "ExecuteTime": {
     "end_time": "2025-09-03T20:06:50.474904Z",
     "start_time": "2025-09-03T20:06:50.470744Z"
    }
   },
   "source": [
    "# StackOverflow Developer Survey - Exploratory Data Analysis\n",
    "\n",
    "import pandas as pd\n",
    "import numpy as np\n",
    "import matplotlib.pyplot as plt\n",
    "import seaborn as sns\n",
    "from scipy import stats\n",
    "import warnings\n",
    "warnings.filterwarnings('ignore')"
   ],
   "outputs": [],
   "execution_count": 2
  },
  {
   "metadata": {
    "ExecuteTime": {
     "end_time": "2025-09-03T20:06:51.495241Z",
     "start_time": "2025-09-03T20:06:51.489901Z"
    }
   },
   "cell_type": "code",
   "source": [
    "# Setting display options for pandas\n",
    "pd.set_option('display.max_columns', None)\n",
    "pd.set_option('display.max_rows', 100)\n",
    "pd.set_option('display.width', None)\n",
    "\n",
    "# Configure matplotlib and seaborn styles\n",
    "plt.style.use('default')\n",
    "sns.set_palette(\"husl\")\n",
    "plt.rcParams['figure.figsize'] = (12, 8)"
   ],
   "id": "c97280aa3e7b9357",
   "outputs": [],
   "execution_count": 3
  },
  {
   "metadata": {
    "ExecuteTime": {
     "end_time": "2025-09-03T20:10:10.863678Z",
     "start_time": "2025-09-03T20:10:09.626343Z"
    }
   },
   "cell_type": "code",
   "source": [
    "# Load the dataset\n",
    "print(\"\\n1. Loading the dataset...\")\n",
    "df = pd.read_csv('../data/raw/survey_results_public.csv')\n",
    "print(\"Dataset loaded successfully.\")\n",
    "print(f\"Data set shape: {df.shape}\")"
   ],
   "id": "ca1334dc750264f8",
   "outputs": [
    {
     "name": "stdout",
     "output_type": "stream",
     "text": [
      "\n",
      "1. Loading the dataset...\n",
      "Dataset loaded successfully.\n",
      "Data set shape: (49123, 170)\n"
     ]
    }
   ],
   "execution_count": 7
  },
  {
   "metadata": {
    "ExecuteTime": {
     "end_time": "2025-09-03T20:13:35.276993Z",
     "start_time": "2025-09-03T20:13:34.601095Z"
    }
   },
   "cell_type": "code",
   "source": [
    "print(\"\\n2. Initial Data Overview...\")\n",
    "print(\"-\"*40)\n",
    "\n",
    "print(f\"Number of rows: {df.shape[0]:,}\")\n",
    "print(f\"Number of columns: {df.shape[1]:,}\")\n",
    "print(f\"Memory usage: {df.memory_usage(deep=True).sum() / 1024**2:.2f} MB\")\n",
    "\n",
    "print(\"\\nColumn names:\")\n",
    "for i, col in enumerate(df.columns):\n",
    "    print(f\"{i+1:2d}. {col}\")"
   ],
   "id": "8524a7f1b4f2def6",
   "outputs": [
    {
     "name": "stdout",
     "output_type": "stream",
     "text": [
      "\n",
      "2. Initial Data Overview...\n",
      "----------------------------------------\n",
      "Number of rows: 49,123\n",
      "Number of columns: 170\n",
      "Memory usage: 375.68 MB\n",
      "\n",
      "Column names:\n",
      " 1. ResponseId\n",
      " 2. MainBranch\n",
      " 3. Age\n",
      " 4. EdLevel\n",
      " 5. Employment\n",
      " 6. EmploymentAddl\n",
      " 7. WorkExp\n",
      " 8. LearnCodeChoose\n",
      " 9. LearnCode\n",
      "10. LearnCodeAI\n",
      "11. AILearnHow\n",
      "12. YearsCode\n",
      "13. DevType\n",
      "14. OrgSize\n",
      "15. ICorPM\n",
      "16. RemoteWork\n",
      "17. PurchaseInfluence\n",
      "18. TechEndorseIntro\n",
      "19. TechEndorse_1\n",
      "20. TechEndorse_2\n",
      "21. TechEndorse_3\n",
      "22. TechEndorse_4\n",
      "23. TechEndorse_5\n",
      "24. TechEndorse_6\n",
      "25. TechEndorse_7\n",
      "26. TechEndorse_8\n",
      "27. TechEndorse_9\n",
      "28. TechEndorse_13\n",
      "29. TechEndorse_13_TEXT\n",
      "30. TechOppose_1\n",
      "31. TechOppose_2\n",
      "32. TechOppose_3\n",
      "33. TechOppose_5\n",
      "34. TechOppose_7\n",
      "35. TechOppose_9\n",
      "36. TechOppose_11\n",
      "37. TechOppose_13\n",
      "38. TechOppose_16\n",
      "39. TechOppose_15\n",
      "40. TechOppose_15_TEXT\n",
      "41. Industry\n",
      "42. JobSatPoints_1\n",
      "43. JobSatPoints_4\n",
      "44. JobSatPoints_5\n",
      "45. JobSatPoints_6\n",
      "46. JobSatPoints_7\n",
      "47. JobSatPoints_8\n",
      "48. JobSatPoints_9\n",
      "49. JobSatPoints_10\n",
      "50. JobSatPoints_11\n",
      "51. JobSatPoints_13\n",
      "52. JobSatPoints_14\n",
      "53. JobSatPoints_15\n",
      "54. JobSatPoints_16\n",
      "55. JobSatPoints_15_TEXT\n",
      "56. AIThreat\n",
      "57. NewRole\n",
      "58. ToolCountWork\n",
      "59. ToolCountPersonal\n",
      "60. Country\n",
      "61. Currency\n",
      "62. CompTotal\n",
      "63. LanguageChoice\n",
      "64. LanguageHaveWorkedWith\n",
      "65. LanguageWantToWorkWith\n",
      "66. LanguageAdmired\n",
      "67. LanguagesHaveEntry\n",
      "68. LanguagesWantEntry\n",
      "69. DatabaseChoice\n",
      "70. DatabaseHaveWorkedWith\n",
      "71. DatabaseWantToWorkWith\n",
      "72. DatabaseAdmired\n",
      "73. DatabaseHaveEntry\n",
      "74. DatabaseWantEntry\n",
      "75. PlatformChoice\n",
      "76. PlatformHaveWorkedWith\n",
      "77. PlatformWantToWorkWith\n",
      "78. PlatformAdmired\n",
      "79. PlatformHaveEntry\n",
      "80. PlatformWantEntry\n",
      "81. WebframeChoice\n",
      "82. WebframeHaveWorkedWith\n",
      "83. WebframeWantToWorkWith\n",
      "84. WebframeAdmired\n",
      "85. WebframeHaveEntry\n",
      "86. WebframeWantEntry\n",
      "87. DevEnvsChoice\n",
      "88. DevEnvsHaveWorkedWith\n",
      "89. DevEnvsWantToWorkWith\n",
      "90. DevEnvsAdmired\n",
      "91. DevEnvHaveEntry\n",
      "92. DevEnvWantEntry\n",
      "93. SOTagsHaveWorkedWith\n",
      "94. SOTagsWantToWorkWith\n",
      "95. SOTagsAdmired\n",
      "96. SOTagsHaveEntry\n",
      "97. SOTagsWant Entry\n",
      "98. OpSysPersonal use\n",
      "99. OpSysProfessional use\n",
      "100. OfficeStackAsyncHaveWorkedWith\n",
      "101. OfficeStackAsyncWantToWorkWith\n",
      "102. OfficeStackAsyncAdmired\n",
      "103. OfficeStackHaveEntry\n",
      "104. OfficeStackWantEntry\n",
      "105. CommPlatformHaveWorkedWith\n",
      "106. CommPlatformWantToWorkWith\n",
      "107. CommPlatformAdmired\n",
      "108. CommPlatformHaveEntr\n",
      "109. CommPlatformWantEntr\n",
      "110. AIModelsChoice\n",
      "111. AIModelsHaveWorkedWith\n",
      "112. AIModelsWantToWorkWith\n",
      "113. AIModelsAdmired\n",
      "114. AIModelsHaveEntry\n",
      "115. AIModelsWantEntry\n",
      "116. SOAccount\n",
      "117. SOVisitFreq\n",
      "118. SODuration\n",
      "119. SOPartFreq\n",
      "120. SO_Dev_Content\n",
      "121. SO_Actions_1\n",
      "122. SO_Actions_16\n",
      "123. SO_Actions_3\n",
      "124. SO_Actions_4\n",
      "125. SO_Actions_5\n",
      "126. SO_Actions_6\n",
      "127. SO_Actions_9\n",
      "128. SO_Actions_7\n",
      "129. SO_Actions_10\n",
      "130. SO_Actions_15\n",
      "131. SO_Actions_15_TEXT\n",
      "132. SOComm\n",
      "133. SOFriction\n",
      "134. AISelect\n",
      "135. AISent\n",
      "136. AIAcc\n",
      "137. AIComplex\n",
      "138. AIToolCurrently partially AI\n",
      "139. AIToolDon't plan to use AI for this task\n",
      "140. AIToolPlan to partially use AI\n",
      "141. AIToolPlan to mostly use AI\n",
      "142. AIToolCurrently mostly AI\n",
      "143. AIFrustration\n",
      "144. AIExplain\n",
      "145. AIAgents\n",
      "146. AIAgentChange\n",
      "147. AIAgent_Uses\n",
      "148. AgentUsesGeneral\n",
      "149. AIAgentImpactSomewhat agree\n",
      "150. AIAgentImpactNeutral\n",
      "151. AIAgentImpactSomewhat disagree\n",
      "152. AIAgentImpactStrongly agree\n",
      "153. AIAgentImpactStrongly disagree\n",
      "154. AIAgentChallengesNeutral\n",
      "155. AIAgentChallengesSomewhat disagree\n",
      "156. AIAgentChallengesStrongly agree\n",
      "157. AIAgentChallengesSomewhat agree\n",
      "158. AIAgentChallengesStrongly disagree\n",
      "159. AIAgentKnowledge\n",
      "160. AIAgentKnowWrite\n",
      "161. AIAgentOrchestration\n",
      "162. AIAgentOrchWrite\n",
      "163. AIAgentObserveSecure\n",
      "164. AIAgentObsWrite\n",
      "165. AIAgentExternal\n",
      "166. AIAgentExtWrite\n",
      "167. AIHuman\n",
      "168. AIOpen\n",
      "169. ConvertedCompYearly\n",
      "170. JobSat\n"
     ]
    }
   ],
   "execution_count": 8
  },
  {
   "metadata": {
    "ExecuteTime": {
     "end_time": "2025-09-03T20:16:54.337673Z",
     "start_time": "2025-09-03T20:16:54.315759Z"
    }
   },
   "cell_type": "code",
   "source": [
    "print(\"\\n3. Data types and basic info...\")\n",
    "print(\"-\"*40)\n",
    "print(\"\\nData types summary:\")\n",
    "print(df.dtypes.value_counts())\n",
    "\n",
    "print(f\"\\nDetailed info:\")\n",
    "df.info()"
   ],
   "id": "6089bbc163a15528",
   "outputs": [
    {
     "name": "stdout",
     "output_type": "stream",
     "text": [
      "\n",
      "3. Data types and basic info...\n",
      "----------------------------------------\n",
      "\n",
      "Data types summary:\n",
      "object     119\n",
      "float64     50\n",
      "int64        1\n",
      "Name: count, dtype: int64\n",
      "\n",
      "Detailed info:\n",
      "<class 'pandas.core.frame.DataFrame'>\n",
      "RangeIndex: 49123 entries, 0 to 49122\n",
      "Columns: 170 entries, ResponseId to JobSat\n",
      "dtypes: float64(50), int64(1), object(119)\n",
      "memory usage: 63.7+ MB\n"
     ]
    }
   ],
   "execution_count": 9
  },
  {
   "metadata": {
    "ExecuteTime": {
     "end_time": "2025-09-03T20:21:10.047188Z",
     "start_time": "2025-09-03T20:21:09.915648Z"
    }
   },
   "cell_type": "code",
   "source": [
    "# Missing data analysis\n",
    "print(\"\\n4. Missing data analysis...\")\n",
    "print(\"-\"*40)\n",
    "\n",
    "missing_data = df.isnull().sum()\n",
    "missing_percent = (missing_data / len(df)) * 100\n",
    "missing_df = pd.DataFrame({\n",
    "    'Column': df.columns,\n",
    "    'Missing_Count': missing_data,\n",
    "    'Missing_Percentage': missing_percent\n",
    "}).sort_values('Missing_Percentage', ascending=False)\n",
    "\n",
    "print(\"Top 20 columns with most missing values:\")\n",
    "print(missing_df.head(20))"
   ],
   "id": "de3634c7e37ae61",
   "outputs": [
    {
     "name": "stdout",
     "output_type": "stream",
     "text": [
      "\n",
      "4. Missing data analysis...\n",
      "----------------------------------------\n",
      "Top 20 columns with most missing values:\n",
      "                                    Column  Missing_Count  Missing_Percentage\n",
      "AIAgentObsWrite            AIAgentObsWrite          48859           99.462574\n",
      "SOTagsWant Entry          SOTagsWant Entry          48693           99.124646\n",
      "SOTagsHaveEntry            SOTagsHaveEntry          48666           99.069682\n",
      "AIModelsWantEntry        AIModelsWantEntry          48649           99.035075\n",
      "AIAgentOrchWrite          AIAgentOrchWrite          48646           99.028968\n",
      "JobSatPoints_15_TEXT  JobSatPoints_15_TEXT          48459           98.648291\n",
      "AIAgentKnowWrite          AIAgentKnowWrite          48358           98.442685\n",
      "AIModelsHaveEntry        AIModelsHaveEntry          48348           98.422328\n",
      "SO_Actions_15_TEXT      SO_Actions_15_TEXT          48300           98.324614\n",
      "AIAgentExtWrite            AIAgentExtWrite          48265           98.253364\n",
      "CommPlatformWantEntr  CommPlatformWantEntr          47940           97.591759\n",
      "CommPlatformHaveEntr  CommPlatformHaveEntr          47648           96.997333\n",
      "DatabaseWantEntry        DatabaseWantEntry          47595           96.889441\n",
      "OfficeStackWantEntry  OfficeStackWantEntry          47506           96.708263\n",
      "TechOppose_15_TEXT      TechOppose_15_TEXT          47478           96.651263\n",
      "TechEndorse_13_TEXT    TechEndorse_13_TEXT          47115           95.912302\n",
      "DevEnvWantEntry            DevEnvWantEntry          47013           95.704660\n",
      "DatabaseHaveEntry        DatabaseHaveEntry          46975           95.627303\n",
      "OfficeStackHaveEntry  OfficeStackHaveEntry          46536           94.733628\n",
      "WebframeWantEntry        WebframeWantEntry          46497           94.654235\n"
     ]
    }
   ],
   "execution_count": 10
  },
  {
   "metadata": {},
   "cell_type": "code",
   "outputs": [],
   "execution_count": null,
   "source": "",
   "id": "df40f34aacc69fc3"
  }
 ],
 "metadata": {
  "kernelspec": {
   "display_name": "Python 3",
   "language": "python",
   "name": "python3"
  },
  "language_info": {
   "codemirror_mode": {
    "name": "ipython",
    "version": 2
   },
   "file_extension": ".py",
   "mimetype": "text/x-python",
   "name": "python",
   "nbconvert_exporter": "python",
   "pygments_lexer": "ipython2",
   "version": "2.7.6"
  }
 },
 "nbformat": 4,
 "nbformat_minor": 5
}
